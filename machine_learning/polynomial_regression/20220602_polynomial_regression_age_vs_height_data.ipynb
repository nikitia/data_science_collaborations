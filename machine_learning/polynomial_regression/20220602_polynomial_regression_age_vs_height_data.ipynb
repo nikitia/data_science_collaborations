{
 "cells": [
  {
   "cell_type": "markdown",
   "id": "5a06aee7",
   "metadata": {},
   "source": [
    "# Polynomial Regression - Age vs Height Data\n",
    "\n",
    "**Nikitia Ramruthan**\n",
    "\n",
    "Notes on Dataset:\n",
    "- The dataset used in this study is not reliable, it is a mock dataset, this project is only for the purpose of demonstrating a Polynomial Regression Model.\n",
    "- A more accurate representation of what the 'Age' vs 'Height' relationship would look like, can be found here:\n",
    "https://ourworldindata.org/human-height\n",
    "\n",
    "\n",
    "### Problem\n",
    "\n",
    "In this analysis I compare a Simple Linear Regression model to a Polynomial Regression model. A simple linear regression model is used to model the relationship between `two continuous variables`. However, when the data does not have a linear relationship, we will not be able to determine the line of best fit or use the model to predict values with accuracy. \n",
    "\n",
    "Consider the example from (https://www.analyticsvidhya.com/blog/2021/07/all-you-need-to-know-about-polynomial-regression/) which indicates why we use Polynomial Regression:\n",
    "\n",
    "The input value is 35 and the degree of a polynomial is 2 so I will find 35 power 0, 35 power 1, and 35 power 2, this helps to interpret the non-linear relationship in data.\n",
    "\n",
    "The polynomial equation: `y = a0 + a1x1 + a2x12 + … + anx1n`\n",
    "\n",
    "The degree of a term is the sum of the exponents of the variables that appear in it, and thus is a non-negative integer. The degrees of freedom is a Hyperparameter and should be chosen wisely. A high degree of a polynomial tries to overfit the data and a low degree of a polynomial tries to underfit it. Hence, we need to find the optimum value of a degree.\n",
    "\n",
    "### Importing Libraries and Loading Dataset"
   ]
  },
  {
   "cell_type": "code",
   "execution_count": 1,
   "id": "26e0c323",
   "metadata": {},
   "outputs": [],
   "source": [
    "import numpy as np\n",
    "import pandas as pd\n",
    "import matplotlib.pyplot as plt\n",
    "from matplotlib import rcParams\n",
    "from sklearn.model_selection import train_test_split\n",
    "from sklearn.linear_model import LinearRegression\n",
    "from sklearn.preprocessing import PolynomialFeatures\n",
    "from sklearn import metrics\n",
    "import opendatasets as od"
   ]
  },
  {
   "cell_type": "code",
   "execution_count": 2,
   "id": "dda22456",
   "metadata": {},
   "outputs": [
    {
     "name": "stdout",
     "output_type": "stream",
     "text": [
      "Skipping, found downloaded files in \".\\heightvsweight-for-linear-polynomial-regression\" (use force=True to force download)\n"
     ]
    }
   ],
   "source": [
    "od.download(\"https://www.kaggle.com/datasets/sakshamjn/heightvsweight-for-linear-polynomial-regression\")"
   ]
  },
  {
   "cell_type": "code",
   "execution_count": 3,
   "id": "d8aff62b",
   "metadata": {},
   "outputs": [
    {
     "data": {
      "text/html": [
       "<div>\n",
       "<style scoped>\n",
       "    .dataframe tbody tr th:only-of-type {\n",
       "        vertical-align: middle;\n",
       "    }\n",
       "\n",
       "    .dataframe tbody tr th {\n",
       "        vertical-align: top;\n",
       "    }\n",
       "\n",
       "    .dataframe thead th {\n",
       "        text-align: right;\n",
       "    }\n",
       "</style>\n",
       "<table border=\"1\" class=\"dataframe\">\n",
       "  <thead>\n",
       "    <tr style=\"text-align: right;\">\n",
       "      <th></th>\n",
       "      <th>Age</th>\n",
       "      <th>Height</th>\n",
       "    </tr>\n",
       "  </thead>\n",
       "  <tbody>\n",
       "    <tr>\n",
       "      <th>0</th>\n",
       "      <td>10</td>\n",
       "      <td>138</td>\n",
       "    </tr>\n",
       "    <tr>\n",
       "      <th>1</th>\n",
       "      <td>11</td>\n",
       "      <td>138</td>\n",
       "    </tr>\n",
       "    <tr>\n",
       "      <th>2</th>\n",
       "      <td>12</td>\n",
       "      <td>138</td>\n",
       "    </tr>\n",
       "    <tr>\n",
       "      <th>3</th>\n",
       "      <td>13</td>\n",
       "      <td>139</td>\n",
       "    </tr>\n",
       "    <tr>\n",
       "      <th>4</th>\n",
       "      <td>14</td>\n",
       "      <td>139</td>\n",
       "    </tr>\n",
       "  </tbody>\n",
       "</table>\n",
       "</div>"
      ],
      "text/plain": [
       "   Age  Height\n",
       "0   10     138\n",
       "1   11     138\n",
       "2   12     138\n",
       "3   13     139\n",
       "4   14     139"
      ]
     },
     "execution_count": 3,
     "metadata": {},
     "output_type": "execute_result"
    }
   ],
   "source": [
    "df = pd.read_csv(\"heightvsweight-for-linear-polynomial-regression/HeightVsWeight.csv\")\n",
    "df.head()"
   ]
  },
  {
   "cell_type": "markdown",
   "id": "cfeb8924",
   "metadata": {},
   "source": [
    "### Data Processing"
   ]
  },
  {
   "cell_type": "code",
   "execution_count": 4,
   "id": "78a23198",
   "metadata": {},
   "outputs": [
    {
     "data": {
      "text/plain": [
       "(71, 2)"
      ]
     },
     "execution_count": 4,
     "metadata": {},
     "output_type": "execute_result"
    }
   ],
   "source": [
    "# extent of data\n",
    "df.shape"
   ]
  },
  {
   "cell_type": "code",
   "execution_count": 5,
   "id": "be1e5c7f",
   "metadata": {},
   "outputs": [
    {
     "data": {
      "text/html": [
       "<div>\n",
       "<style scoped>\n",
       "    .dataframe tbody tr th:only-of-type {\n",
       "        vertical-align: middle;\n",
       "    }\n",
       "\n",
       "    .dataframe tbody tr th {\n",
       "        vertical-align: top;\n",
       "    }\n",
       "\n",
       "    .dataframe thead th {\n",
       "        text-align: right;\n",
       "    }\n",
       "</style>\n",
       "<table border=\"1\" class=\"dataframe\">\n",
       "  <thead>\n",
       "    <tr style=\"text-align: right;\">\n",
       "      <th></th>\n",
       "      <th>Age</th>\n",
       "      <th>Height</th>\n",
       "    </tr>\n",
       "  </thead>\n",
       "  <tbody>\n",
       "    <tr>\n",
       "      <th>count</th>\n",
       "      <td>71.000000</td>\n",
       "      <td>71.000000</td>\n",
       "    </tr>\n",
       "    <tr>\n",
       "      <th>mean</th>\n",
       "      <td>45.000000</td>\n",
       "      <td>160.873239</td>\n",
       "    </tr>\n",
       "    <tr>\n",
       "      <th>std</th>\n",
       "      <td>20.639767</td>\n",
       "      <td>20.842902</td>\n",
       "    </tr>\n",
       "    <tr>\n",
       "      <th>min</th>\n",
       "      <td>10.000000</td>\n",
       "      <td>138.000000</td>\n",
       "    </tr>\n",
       "    <tr>\n",
       "      <th>25%</th>\n",
       "      <td>27.500000</td>\n",
       "      <td>143.500000</td>\n",
       "    </tr>\n",
       "    <tr>\n",
       "      <th>50%</th>\n",
       "      <td>45.000000</td>\n",
       "      <td>155.000000</td>\n",
       "    </tr>\n",
       "    <tr>\n",
       "      <th>75%</th>\n",
       "      <td>62.500000</td>\n",
       "      <td>171.500000</td>\n",
       "    </tr>\n",
       "    <tr>\n",
       "      <th>max</th>\n",
       "      <td>80.000000</td>\n",
       "      <td>208.000000</td>\n",
       "    </tr>\n",
       "  </tbody>\n",
       "</table>\n",
       "</div>"
      ],
      "text/plain": [
       "             Age      Height\n",
       "count  71.000000   71.000000\n",
       "mean   45.000000  160.873239\n",
       "std    20.639767   20.842902\n",
       "min    10.000000  138.000000\n",
       "25%    27.500000  143.500000\n",
       "50%    45.000000  155.000000\n",
       "75%    62.500000  171.500000\n",
       "max    80.000000  208.000000"
      ]
     },
     "execution_count": 5,
     "metadata": {},
     "output_type": "execute_result"
    }
   ],
   "source": [
    "# summary statistics\n",
    "df.describe()"
   ]
  },
  {
   "cell_type": "code",
   "execution_count": 6,
   "id": "90e5e036",
   "metadata": {},
   "outputs": [
    {
     "name": "stdout",
     "output_type": "stream",
     "text": [
      "<class 'pandas.core.frame.DataFrame'>\n",
      "RangeIndex: 71 entries, 0 to 70\n",
      "Data columns (total 2 columns):\n",
      " #   Column  Non-Null Count  Dtype\n",
      "---  ------  --------------  -----\n",
      " 0   Age     71 non-null     int64\n",
      " 1   Height  71 non-null     int64\n",
      "dtypes: int64(2)\n",
      "memory usage: 1.2 KB\n"
     ]
    }
   ],
   "source": [
    "# null values and data types\n",
    "df.info()"
   ]
  },
  {
   "cell_type": "markdown",
   "id": "0732a965",
   "metadata": {},
   "source": [
    "* no null values\n",
    "* continuous, numerical data"
   ]
  },
  {
   "cell_type": "code",
   "execution_count": 7,
   "id": "ae35d134",
   "metadata": {},
   "outputs": [
    {
     "name": "stdout",
     "output_type": "stream",
     "text": [
      "Empty DataFrame\n",
      "Columns: [Age, Height]\n",
      "Index: []\n"
     ]
    }
   ],
   "source": [
    "# duplicates\n",
    "duplicates = df[df.duplicated()]\n",
    "print(duplicates)"
   ]
  },
  {
   "cell_type": "markdown",
   "id": "c8040562",
   "metadata": {},
   "source": [
    "* no duplicated rows"
   ]
  },
  {
   "cell_type": "markdown",
   "id": "8e71396a",
   "metadata": {},
   "source": [
    "### Data 80/20 Split"
   ]
  },
  {
   "cell_type": "code",
   "execution_count": 8,
   "id": "b91f8316",
   "metadata": {},
   "outputs": [],
   "source": [
    "# store data as input(dep) and output(indep) variables\n",
    "x = df['Age'].values\n",
    "y = df['Height'].values"
   ]
  },
  {
   "cell_type": "code",
   "execution_count": 9,
   "id": "5976eaf7",
   "metadata": {},
   "outputs": [],
   "source": [
    "# because the data has a single feature\n",
    "x = x.reshape(-1, 1)"
   ]
  },
  {
   "cell_type": "code",
   "execution_count": 10,
   "id": "36d9b5e6",
   "metadata": {},
   "outputs": [],
   "source": [
    "# split the data into training and test sets\n",
    "x_train, x_test, y_train, y_test = train_test_split(df[['Age']], df['Height'], test_size=0.2, random_state=0)"
   ]
  },
  {
   "cell_type": "markdown",
   "id": "cd96a20a",
   "metadata": {},
   "source": [
    "### Linear Regression Model"
   ]
  },
  {
   "cell_type": "code",
   "execution_count": 11,
   "id": "4c138193",
   "metadata": {},
   "outputs": [
    {
     "data": {
      "text/plain": [
       "LinearRegression()"
      ]
     },
     "execution_count": 11,
     "metadata": {},
     "output_type": "execute_result"
    }
   ],
   "source": [
    "# fit the simple linear regression model\n",
    "lr_model = LinearRegression()\n",
    "lr_model.fit(x_train, y_train)"
   ]
  },
  {
   "cell_type": "markdown",
   "id": "0d73c82a",
   "metadata": {},
   "source": [
    "#### Scatter Plot"
   ]
  },
  {
   "cell_type": "code",
   "execution_count": 12,
   "id": "bc68430f",
   "metadata": {},
   "outputs": [
    {
     "data": {
      "text/plain": [
       "Text(0, 0.5, 'Height')"
      ]
     },
     "execution_count": 12,
     "metadata": {},
     "output_type": "execute_result"
    },
    {
     "data": {
      "image/png": "[encoded data removed]",
      "text/plain": [
       "<Figure size 1080x576 with 1 Axes>"
      ]
     },
     "metadata": {
      "needs_background": "light"
     },
     "output_type": "display_data"
    }
   ],
   "source": [
    "rcParams['axes.spines.top'] = False\n",
    "rcParams['axes.spines.right'] = False\n",
    "\n",
    "plt.figure(figsize=(15,8))\n",
    "plt.scatter(x_train, y_train, label='Trained', color='black')\n",
    "plt.plot(x_train, lr_model.predict(x_train), label='Predicted', color='red')\n",
    "plt.legend()\n",
    "plt.title('Linear Regression')\n",
    "plt.xlabel('Age')\n",
    "plt.ylabel('Height')"
   ]
  },
  {
   "cell_type": "markdown",
   "id": "e980f944",
   "metadata": {},
   "source": [
    "### Polynomial Regression Model"
   ]
  },
  {
   "cell_type": "code",
   "execution_count": 13,
   "id": "92c7c7b5",
   "metadata": {},
   "outputs": [],
   "source": [
    "# adding a polynomial term to linear regresion\n",
    "# set variable to apply pre-processing function\n",
    "pf = PolynomialFeatures(degree=2)\n",
    "\n",
    "# transforms x into a new matrix x_poly\n",
    "# x_poly contains additional indep. variables ie. x^2, x^3, etc.\n",
    "x_train_poly = pf.fit_transform(x_train)\n",
    "x_test_poly = pf.transform(x_test)"
   ]
  },
  {
   "cell_type": "code",
   "execution_count": 14,
   "id": "6ada137e",
   "metadata": {},
   "outputs": [],
   "source": [
    "# fit the polynomial regression model\n",
    "pr_model = LinearRegression()\n",
    "pr_model.fit(x_train_poly, y_train)\n",
    "y_pred = pr_model.predict(x_test_poly)"
   ]
  },
  {
   "cell_type": "markdown",
   "id": "c560f5e6",
   "metadata": {},
   "source": [
    "#### Scatter Plot"
   ]
  },
  {
   "cell_type": "code",
   "execution_count": 15,
   "id": "b80bff50",
   "metadata": {},
   "outputs": [
    {
     "data": {
      "text/plain": [
       "Text(0, 0.5, 'Height')"
      ]
     },
     "execution_count": 15,
     "metadata": {},
     "output_type": "execute_result"
    },
    {
     "data": {
      "image/png": "[encoded data removed]",
      "text/plain": [
       "<Figure size 1080x576 with 1 Axes>"
      ]
     },
     "metadata": {
      "needs_background": "light"
     },
     "output_type": "display_data"
    }
   ],
   "source": [
    "rcParams['axes.spines.top'] = False\n",
    "rcParams['axes.spines.right'] = False\n",
    "\n",
    "plt.figure(figsize=(15,8))\n",
    "plt.scatter(df['Age'],df['Height'], label='Trained', color = 'black')\n",
    "plt.plot(df['Age'],pr_model.predict(pf.transform(df[['Age']])), label='Predicted', color = 'red')\n",
    "plt.legend()\n",
    "plt.title('Linear Regression')\n",
    "plt.xlabel('Age')\n",
    "plt.ylabel('Height')"
   ]
  },
  {
   "cell_type": "markdown",
   "id": "4403c0ba",
   "metadata": {},
   "source": [
    "### Model Prediction Accuracy\n",
    "#### Simple Linear Regression"
   ]
  },
  {
   "cell_type": "code",
   "execution_count": 16,
   "id": "0012126b",
   "metadata": {},
   "outputs": [
    {
     "name": "stdout",
     "output_type": "stream",
     "text": [
      "Linear Regression Model (R^2): 0.8547153936823451\n"
     ]
    }
   ],
   "source": [
    "# predicted height from test dataset w.r.t simple Linear Regression\n",
    "y_pred_lr = lr_model.predict(x_test)\n",
    "\n",
    "# model evaluation using R^2 for lr\n",
    "r2_lr = metrics.r2_score(y_test, y_pred_lr)\n",
    "print('Linear Regression Model (R^2):', r2_lr)"
   ]
  },
  {
   "cell_type": "markdown",
   "id": "4ca40751",
   "metadata": {},
   "source": [
    "#### Polynomial Regression"
   ]
  },
  {
   "cell_type": "code",
   "execution_count": 17,
   "id": "e90a5845",
   "metadata": {},
   "outputs": [
    {
     "name": "stdout",
     "output_type": "stream",
     "text": [
      "Polynomial Regression Model (R^2): 0.9909864052059418\n"
     ]
    }
   ],
   "source": [
    "# predicted height from test dataset w.r.t Polynomial Regression\n",
    "y_pred_pr = pr_model.predict(pf.fit_transform(x_test))\n",
    "\n",
    "# model evaluation using R^2 for pr\n",
    "r2_pr = metrics.r2_score(y_test, y_pred_pr)\n",
    "print('Polynomial Regression Model (R^2):', r2_pr)"
   ]
  },
  {
   "cell_type": "markdown",
   "id": "7bbe9d89",
   "metadata": {},
   "source": [
    "### Conclusion\n",
    "The R-squared value of the Polynomial Regression Model exceeds that of the Linear Regression Model. This means that the Polynomial Model has a more accurate best-fit line. \n",
    "\n",
    "i.e. Most of the variation of actual values from the mean value are explained by the Polynomial Regression model. "
   ]
  },
  {
   "cell_type": "markdown",
   "id": "8831ac42",
   "metadata": {},
   "source": [
    "#### Using the Model to Predict Values"
   ]
  },
  {
   "cell_type": "code",
   "execution_count": 18,
   "id": "974dda59",
   "metadata": {},
   "outputs": [
    {
     "data": {
      "text/plain": [
       "array([142.72398939])"
      ]
     },
     "execution_count": 18,
     "metadata": {},
     "output_type": "execute_result"
    }
   ],
   "source": [
    "# predict height y given x=25\n",
    "lr_model.predict([[25]])"
   ]
  },
  {
   "cell_type": "code",
   "execution_count": 19,
   "id": "68cbf34d",
   "metadata": {},
   "outputs": [
    {
     "data": {
      "text/plain": [
       "array([141.29758036])"
      ]
     },
     "execution_count": 19,
     "metadata": {},
     "output_type": "execute_result"
    }
   ],
   "source": [
    "# predict height y given x=25\n",
    "pr_model.predict(pf.fit_transform([[25]]))"
   ]
  },
  {
   "cell_type": "markdown",
   "id": "644d16d1",
   "metadata": {},
   "source": [
    "#### Showing the accuracy of a predicted data point"
   ]
  },
  {
   "cell_type": "code",
   "execution_count": 20,
   "id": "f32376a4",
   "metadata": {},
   "outputs": [
    {
     "name": "stdout",
     "output_type": "stream",
     "text": [
      "Intercept: 144.74013919288308\n",
      "Coefficients: -0.562024539127894 0.016972887436578904\n"
     ]
    }
   ],
   "source": [
    "# model performance\n",
    "theta0 =pr_model.intercept_\n",
    "_, theta1, theta2 = pr_model.coef_\n",
    "\n",
    "print('Intercept:', theta0)\n",
    "print('Coefficients:', theta1, theta2)"
   ]
  },
  {
   "cell_type": "code",
   "execution_count": 21,
   "id": "6192f987",
   "metadata": {},
   "outputs": [
    {
     "data": {
      "text/plain": [
       "array([141.29758036])"
      ]
     },
     "execution_count": 21,
     "metadata": {},
     "output_type": "execute_result"
    }
   ],
   "source": [
    "# predict height y using pr model transformed with polynomial features\n",
    "y_new = pr_model.predict(pf.fit_transform([[25]]))\n",
    "y_new"
   ]
  },
  {
   "cell_type": "markdown",
   "id": "7d40125e",
   "metadata": {},
   "source": [
    "#### Scatter Plot"
   ]
  },
  {
   "cell_type": "code",
   "execution_count": 22,
   "id": "c1548012",
   "metadata": {},
   "outputs": [
    {
     "data": {
      "text/plain": [
       "Text(0, 0.5, 'Height')"
      ]
     },
     "execution_count": 22,
     "metadata": {},
     "output_type": "execute_result"
    },
    {
     "data": {
      "image/png": "[encoded data removed]",
      "text/plain": [
       "<Figure size 1080x576 with 1 Axes>"
      ]
     },
     "metadata": {
      "needs_background": "light"
     },
     "output_type": "display_data"
    }
   ],
   "source": [
    "rcParams['axes.spines.top'] = False\n",
    "rcParams['axes.spines.right'] = False\n",
    "\n",
    "plt.figure(figsize=(15,8))\n",
    "plt.scatter(df['Age'],df['Height'], label='train', color = 'black')\n",
    "plt.scatter(25, y_new, label='y_new', color = 'red')\n",
    "plt.plot(df['Age'],pr_model.predict(pf.transform(df[['Age']])), label='predict', color = 'red')\n",
    "plt.legend()\n",
    "plt.title('Linear Regression')\n",
    "plt.xlabel('Age')\n",
    "plt.ylabel('Height')"
   ]
  },
  {
   "cell_type": "markdown",
   "id": "4dde6779",
   "metadata": {},
   "source": [
    "The graph shows that the training data points are well fitted to the model predictions and the model is accurate. "
   ]
  },
  {
   "cell_type": "code",
   "execution_count": null,
   "id": "72cc44a4",
   "metadata": {},
   "outputs": [],
   "source": []
  }
 ],
 "metadata": {
  "kernelspec": {
   "display_name": "Python 3 (ipykernel)",
   "language": "python",
   "name": "python3"
  },
  "language_info": {
   "codemirror_mode": {
    "name": "ipython",
    "version": 3
   },
   "file_extension": ".py",
   "mimetype": "text/x-python",
   "name": "python",
   "nbconvert_exporter": "python",
   "pygments_lexer": "ipython3",
   "version": "3.9.7"
  }
 },
 "nbformat": 4,
 "nbformat_minor": 5
}
